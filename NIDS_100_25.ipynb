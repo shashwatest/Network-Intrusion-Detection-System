{
  "cells": [
    {
      "cell_type": "code",
      "execution_count": null,
      "id": "b7d66ed8",
      "metadata": {
        "colab": {
          "base_uri": "https://localhost:8080/"
        },
        "id": "b7d66ed8",
        "outputId": "c56a08e4-5c01-4f11-930f-94868402dd16"
      },
      "outputs": [],
      "source": [
        "!unzip -q MachineLearningCSV.zip -d cic-ids2017\n",
        "!ls cic-ids2017"
      ]
    },
    {
      "cell_type": "code",
      "execution_count": null,
      "id": "7c6ab701",
      "metadata": {
        "colab": {
          "base_uri": "https://localhost:8080/"
        },
        "id": "7c6ab701",
        "outputId": "f45a9981-9ebc-4b32-e387-d0661f55ac64"
      },
      "outputs": [],
      "source": [
        "import pandas as pd\n",
        "import os\n",
        "\n",
        "data_dir = 'cic-ids2017/MachineLearningCVE'\n",
        "files = sorted(os.listdir(data_dir))\n",
        "\n",
        "df_list = []\n",
        "for fname in files:\n",
        "    path = os.path.join(data_dir, fname)\n",
        "    df = pd.read_csv(path)\n",
        "    # Down sample data here if running into kernel crash issues\n",
        "    df_sample = df.sample(frac = 1, random_state=42)\n",
        "    df_list.append(df_sample)\n",
        "\n",
        "full_df = pd.concat(df_list, ignore_index=True)\n",
        "print('Shape after no down-sampling', full_df.shape)"
      ]
    },
    {
      "cell_type": "code",
      "execution_count": null,
      "id": "87544203",
      "metadata": {},
      "outputs": [],
      "source": [
        "import pandas as pd \n",
        "import numpy as np\n",
        "\n",
        "full_df.columns = full_df.columns.str.strip()\n",
        "full_df.replace([np.inf, -np.inf], np.nan, inplace=True)\n",
        "\n",
        "X = full_df.drop(\"Label\", axis=1)\n",
        "y = full_df[\"Label\"]\n",
        "\n",
        "for col in X.select_dtypes(include=[\"float64\"]):\n",
        "    X[col] = pd.to_numeric(X[col], downcast=\"float\")\n",
        "for col in X.select_dtypes(include=[\"int64\"]):\n",
        "    X[col] = pd.to_numeric(X[col], downcast=\"integer\")\n",
        "\n",
        "for col in X.columns:\n",
        "    med = X[col].median()\n",
        "    X[col] = X[col].fillna(med)\n",
        "\n",
        "full_df = X.copy()\n",
        "full_df[\"Label\"] = y\n",
        "\n",
        "print(\"Post‐impute label distribution:\")\n",
        "print(full_df[\"Label\"].value_counts())\n"
      ]
    },
    {
      "cell_type": "code",
      "execution_count": null,
      "id": "31e4641e",
      "metadata": {
        "colab": {
          "base_uri": "https://localhost:8080/"
        },
        "id": "31e4641e",
        "outputId": "e61cb080-6040-4e49-ed59-dacb0746cccd"
      },
      "outputs": [],
      "source": [
        "import numpy as np\n",
        "\n",
        "full_df.columns = full_df.columns.str.strip()\n",
        "\n",
        "full_df.replace([np.inf, -np.inf], np.nan, inplace=True)\n",
        "\n",
        "X = full_df.drop('Label', axis=1)\n",
        "y = full_df['Label']\n",
        "\n",
        "X_imputed = X.fillna(X.median())\n",
        "\n",
        "full_df = X_imputed.copy()\n",
        "full_df['Label'] = y\n",
        "\n",
        "print('Post-impute label distribution:')\n",
        "print(full_df['Label'].value_counts())"
      ]
    },
    {
      "cell_type": "code",
      "execution_count": null,
      "id": "75681f3a",
      "metadata": {
        "colab": {
          "base_uri": "https://localhost:8080/"
        },
        "id": "75681f3a",
        "outputId": "9d003e4c-d2ee-42f7-c252-b8ce61b0fa0d"
      },
      "outputs": [],
      "source": [
        "from sklearn.preprocessing import LabelEncoder\n",
        "from keras.utils import to_categorical\n",
        "from sklearn.model_selection import train_test_split\n",
        "\n",
        "le = LabelEncoder()\n",
        "y_int = le.fit_transform(full_df['Label'])  \n",
        "\n",
        "y_cat = to_categorical(y_int)\n",
        "\n",
        "import joblib\n",
        "joblib.dump(le, 'label_encoder.pkl')\n",
        "\n",
        "X = full_df.drop('Label', axis=1).astype('float32')\n",
        "\n",
        "X_train, X_test, y_train_cat, y_test_cat, y_train_int, y_test_int = train_test_split(\n",
        "    X, y_cat, y_int,\n",
        "    test_size=0.2,\n",
        "    stratify=y_int,\n",
        "    random_state=42\n",
        ")\n",
        "\n",
        "print(\"Train:\", X_train.shape, \"Test:\", X_test.shape)\n",
        "print(\"Class counts (train):\")\n",
        "print(pd.Series(y_train_int).value_counts())\n"
      ]
    },
    {
      "cell_type": "code",
      "execution_count": null,
      "id": "6c126fdc",
      "metadata": {
        "colab": {
          "base_uri": "https://localhost:8080/"
        },
        "id": "6c126fdc",
        "outputId": "439b9f7c-2a68-44a9-80e2-0299a4e7de95"
      },
      "outputs": [],
      "source": [
        "from sklearn.preprocessing import StandardScaler\n",
        "\n",
        "scaler = StandardScaler()\n",
        "X_train_scaled = scaler.fit_transform(X_train)\n",
        "X_test_scaled = scaler.transform(X_test)\n",
        "\n",
        "import joblib\n",
        "joblib.dump(scaler, 'scaler.pkl')\n",
        "print('Scaling complete.')"
      ]
    },
    {
      "cell_type": "code",
      "execution_count": null,
      "id": "7468f9fd",
      "metadata": {
        "id": "7468f9fd"
      },
      "outputs": [],
      "source": [
        "import tensorflow as tf\n",
        "from keras import layers, models, callbacks\n",
        "\n",
        "input_dim = X_train_scaled.shape[1]\n",
        "num_classes = y_train_cat.shape[1] \n",
        "\n",
        "model = models.Sequential([\n",
        "    layers.Input(shape=(input_dim,)),\n",
        "    layers.Dense(128, activation='relu'),\n",
        "    layers.Dropout(0.3),\n",
        "    layers.Dense(64, activation='relu'),\n",
        "    layers.Dropout(0.3),\n",
        "    layers.Dense(32, activation='relu'),\n",
        "    layers.Dropout(0.2),\n",
        "    layers.Dense(num_classes, activation='softmax')\n",
        "])"
      ]
    },
    {
      "cell_type": "code",
      "execution_count": null,
      "id": "ae66ae84",
      "metadata": {
        "id": "ae66ae84"
      },
      "outputs": [],
      "source": [
        "model.compile(\n",
        "    optimizer='adam',\n",
        "    loss='categorical_crossentropy',\n",
        "    metrics=['accuracy']\n",
        ")\n",
        "\n",
        "early_stop = callbacks.EarlyStopping(\n",
        "    monitor='val_loss', patience=3, restore_best_weights=True\n",
        ")\n",
        "ckpt = callbacks.ModelCheckpoint(\n",
        "    'best_ids_mc_model.h5', save_best_only=True\n",
        ")\n",
        "\n",
        "history = model.fit(\n",
        "    X_train_scaled, y_train_cat,\n",
        "    epochs=25,\n",
        "    batch_size=64,\n",
        "    validation_split=0.2,\n",
        "    callbacks=[early_stop, ckpt]\n",
        ")\n"
      ]
    },
    {
      "cell_type": "code",
      "execution_count": null,
      "id": "77c16983",
      "metadata": {
        "colab": {
          "base_uri": "https://localhost:8080/",
          "height": 705
        },
        "id": "77c16983",
        "outputId": "8df2d5b7-b8ce-470a-dd07-dd0146af39a6"
      },
      "outputs": [],
      "source": [
        "import seaborn as sns\n",
        "from sklearn.metrics import classification_report, confusion_matrix\n",
        "import matplotlib.pyplot as plt\n",
        "\n",
        "test_metrics = model.evaluate(X_test_scaled, y_test_cat)\n",
        "print(dict(zip(model.metrics_names, test_metrics)))\n",
        "\n",
        "y_pred_prob = model.predict(X_test_scaled)     \n",
        "y_pred_int  = y_pred_prob.argmax(axis=1)\n",
        "y_true_int  = y_test_int\n",
        "\n",
        "le = joblib.load('label_encoder.pkl')\n",
        "y_pred_labels = le.inverse_transform(y_pred_int)\n",
        "y_true_labels = le.inverse_transform(y_true_int)\n",
        "\n",
        "cm = confusion_matrix(y_true_int, y_pred_int)\n",
        "plt.figure(figsize=(8,6))\n",
        "sns.heatmap(cm, annot=True, fmt='d', cmap='Blues',\n",
        "            xticklabels=le.classes_, yticklabels=le.classes_)\n",
        "plt.xlabel('Predicted'); plt.ylabel('True')\n",
        "plt.title('Confusion Matrix (Multi-class)')\n",
        "plt.show()\n",
        "\n",
        "print(classification_report(y_true_int, y_pred_int,\n",
        "      target_names=le.classes_))\n"
      ]
    },
    {
      "cell_type": "code",
      "execution_count": null,
      "id": "BdOdzrG1l_QS",
      "metadata": {
        "id": "BdOdzrG1l_QS"
      },
      "outputs": [],
      "source": [
        "model.save('trainMC100-25.keras')"
      ]
    }
  ],
  "metadata": {
    "accelerator": "GPU",
    "colab": {
      "gpuType": "T4",
      "provenance": []
    },
    "kernelspec": {
      "display_name": "Python 3",
      "name": "python3"
    },
    "language_info": {
      "codemirror_mode": {
        "name": "ipython",
        "version": 3
      },
      "file_extension": ".py",
      "mimetype": "text/x-python",
      "name": "python",
      "nbconvert_exporter": "python",
      "pygments_lexer": "ipython3",
      "version": "3.11.11"
    }
  },
  "nbformat": 4,
  "nbformat_minor": 5
}
